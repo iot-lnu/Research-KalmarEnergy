{
 "cells": [
  {
   "cell_type": "markdown",
   "metadata": {},
   "source": [
    "# Pricipal Componenets Analysis (PCA)"
   ]
  },
  {
   "cell_type": "markdown",
   "metadata": {},
   "source": [
    "It has 4 steps \n",
    "1) Data Standardization \n",
    "2) Calculate the Covariance \n",
    "3) Find the principal components \n",
    "4) Transform the data (Visualization and Analysis). But first we need to do: 1) Data consolidation and 2) Data Pre-processing and cleaning."
   ]
  },
  {
   "cell_type": "markdown",
   "metadata": {},
   "source": [
    "## Data Cleaning and Pre-processing: \n",
    "\n",
    "Check for missing or inconsistent data and decide how to handle it (e.g., imputation or removal).\n",
    "Ensure that all data types are correct (e.g., DATE should be a date type, HOUR_0 to HOUR_23 should be numeric). For example, for applying Imputation on non-numeric data (objects) for handling Nan values, first we need to convert them to a numeric. However, HOUR_0 to HOUR_23 were by default float.\n",
    "Convert categorical variables like ISPRIVATEPERSON into a numerical form that PCA can work with, using encoding methods like One-Hot Encoding or Label Encoding.\n",
    "Exclude non-numeric columns like CUSTOMER and AREA from PCA, or find a way to numerically encode them if they are relevant to your analysis."
   ]
  },
  {
   "cell_type": "code",
   "execution_count": 1,
   "metadata": {
    "tags": []
   },
   "outputs": [],
   "source": [
    "import utils.KEprocessing\n",
    "\n",
    "# List of filenames\n",
    "filenames = ['data/lnu_2020.csv', 'data/lnu_2021.csv', 'data/lnu_2022.csv', 'data/lnu_2023.csv']\n",
    "combined_df = utils.KEprocessing.consolidate_data(filenames)"
   ]
  },
  {
   "cell_type": "code",
   "execution_count": 3,
   "metadata": {
    "tags": []
   },
   "outputs": [
    {
     "name": "stdout",
     "output_type": "stream",
     "text": [
      "Data types for combined_df:\n",
      "CUSTOMER                    int64\n",
      "AREA                       object\n",
      "ISPRIVATEPERSON            object\n",
      "DATE               datetime64[ns]\n",
      "HOUR_0                    float64\n",
      "HOUR_1                    float64\n",
      "HOUR_2                    float64\n",
      "HOUR_3                    float64\n",
      "HOUR_4                    float64\n",
      "HOUR_5                    float64\n",
      "HOUR_6                    float64\n",
      "HOUR_7                    float64\n",
      "HOUR_8                    float64\n",
      "HOUR_9                    float64\n",
      "HOUR_10                   float64\n",
      "HOUR_11                   float64\n",
      "HOUR_12                   float64\n",
      "HOUR_13                   float64\n",
      "HOUR_14                   float64\n",
      "HOUR_15                   float64\n",
      "HOUR_16                   float64\n",
      "HOUR_17                   float64\n",
      "HOUR_18                   float64\n",
      "HOUR_19                   float64\n",
      "HOUR_20                   float64\n",
      "HOUR_21                   float64\n",
      "HOUR_22                   float64\n",
      "HOUR_23                   float64\n",
      "YEAR                       object\n",
      "dtype: object\n"
     ]
    }
   ],
   "source": [
    "# Check the data types for each DataFrame\n",
    "print('Data types for combined_df:')\n",
    "print(combined_df.dtypes)"
   ]
  },
  {
   "cell_type": "markdown",
   "metadata": {},
   "source": [
    "## Power usage per year to see the outliers\n",
    "\n",
    "(High values compared to the power usage threshold which I defined for Residential:0.05MWh and Commercial:15MWh, negative values, and Nan values)"
   ]
  },
  {
   "cell_type": "code",
   "execution_count": null,
   "metadata": {
    "tags": []
   },
   "outputs": [],
   "source": [
    "import matplotlib.pyplot as plt\n",
    "\n",
    "# List of unique years in the data\n",
    "years = combined_df['YEAR'].unique()\n",
    "\n",
    "# Plotting boxplots for each year\n",
    "for year in years:\n",
    "    # Selecting only the data for current year\n",
    "    year_data = combined_df[combined_df['YEAR'] == year]\n",
    "    \n",
    "    # Selecting only the hour columns\n",
    "    hours_data = year_data.filter(regex='^HOUR_')\n",
    "\n",
    "    # Plotting\n",
    "    plt.figure(figsize=(15, 5))\n",
    "    hours_data.boxplot()\n",
    "    plt.title(f'Hourly Power Consumption Boxplot for {year}')\n",
    "    plt.ylabel('Power Consumption (MWh)')\n",
    "    plt.xlabel('Hour of the Day')\n",
    "    plt.xticks(rotation=90)\n",
    "    plt.grid(False)\n",
    "    plt.show()"
   ]
  },
  {
   "cell_type": "markdown",
   "metadata": {
    "tags": []
   },
   "source": [
    "## Quantify how many NaN values there are"
   ]
  },
  {
   "cell_type": "code",
   "execution_count": 7,
   "metadata": {
    "tags": []
   },
   "outputs": [
    {
     "name": "stdout",
     "output_type": "stream",
     "text": [
      "NaN values in year 2020: 12365\n",
      "NaN values in year 2021: 29255\n",
      "NaN values in year 2022: 7039\n",
      "NaN values in year 2023: 0\n"
     ]
    }
   ],
   "source": [
    "# Get unique years in the data\n",
    "years = combined_df['YEAR'].unique()\n",
    "\n",
    "# Count NaN values for each year\n",
    "for year in years:\n",
    "    nan_count = combined_df[combined_df['YEAR'] == year].isna().sum().sum()\n",
    "    print(f\"NaN values in year {year}: {nan_count}\")"
   ]
  },
  {
   "cell_type": "code",
   "execution_count": 9,
   "metadata": {
    "tags": []
   },
   "outputs": [
    {
     "name": "stderr",
     "output_type": "stream",
     "text": [
      "/var/folders/gv/7bjgqyhj6td4g_cktv1tvblw0000gq/T/ipykernel_10088/1554872401.py:2: UserWarning: Boolean Series key will be reindexed to match DataFrame index.\n",
      "  nan_rows = combined_df[combined_df['YEAR'] == year][combined_df.isna().any(axis=1)]\n"
     ]
    },
    {
     "name": "stdout",
     "output_type": "stream",
     "text": [
      "Rows with NaN values in 2020 DataFrame:\n",
      "          CUSTOMER         AREA ISPRIVATEPERSON       DATE  HOUR_0  HOUR_1  \\\n",
      "3744    1060598943  Kvarnholmen             Nej 2020-01-10     NaN     NaN   \n",
      "8245    1060599104  Kvarnholmen             Nej 2020-05-06     NaN     NaN   \n",
      "9584    1060599315  Kvarnholmen             Nej 2020-01-02   0.003   0.003   \n",
      "9585    1060599315  Kvarnholmen             Nej 2020-01-08     NaN     NaN   \n",
      "13970   1060599939  Kvarnholmen             Nej 2020-06-17     NaN     NaN   \n",
      "...            ...          ...             ...        ...     ...     ...   \n",
      "277190  1969676870        Berga             Nej 2020-11-30     NaN     NaN   \n",
      "277222  1969676874        Berga             Nej 2020-11-19     NaN     NaN   \n",
      "277265  1969676878        Berga             Nej 2020-11-17     NaN     NaN   \n",
      "277310  1969676882        Berga             Nej 2020-11-17     NaN     NaN   \n",
      "277355  1969676886        Berga             Nej 2020-11-17     NaN     NaN   \n",
      "\n",
      "        HOUR_2  HOUR_3  HOUR_4  HOUR_5  ...  HOUR_15  HOUR_16  HOUR_17  \\\n",
      "3744       NaN     NaN     NaN     NaN  ...    0.012    0.012    0.012   \n",
      "8245       NaN     NaN     NaN     NaN  ...    0.000    0.000    0.000   \n",
      "9584     0.003   0.003   0.003     NaN  ...      NaN      NaN      NaN   \n",
      "9585       NaN     NaN     NaN     NaN  ...    0.008    0.008    0.007   \n",
      "13970      NaN     NaN     NaN     NaN  ...    0.000    0.000    0.000   \n",
      "...        ...     ...     ...     ...  ...      ...      ...      ...   \n",
      "277190     NaN     NaN     NaN     NaN  ...    0.005    0.006    0.008   \n",
      "277222     NaN     NaN     NaN     NaN  ...    0.004    0.005    0.004   \n",
      "277265     NaN     NaN     NaN     NaN  ...      NaN      NaN    0.005   \n",
      "277310     NaN     NaN     NaN     NaN  ...      NaN      NaN      NaN   \n",
      "277355     NaN     NaN     NaN     NaN  ...      NaN      NaN      NaN   \n",
      "\n",
      "        HOUR_18  HOUR_19  HOUR_20  HOUR_21  HOUR_22  HOUR_23  YEAR  \n",
      "3744      0.012    0.003    0.003    0.003    0.002    0.002  2020  \n",
      "8245      0.001    0.001    0.001    0.001    0.001    0.001  2020  \n",
      "9584        NaN      NaN      NaN      NaN      NaN      NaN  2020  \n",
      "9585      0.008    0.007    0.009    0.003    0.003    0.003  2020  \n",
      "13970     0.000    0.000    0.000    0.000    0.000    0.000  2020  \n",
      "...         ...      ...      ...      ...      ...      ...   ...  \n",
      "277190    0.006    0.004    0.006    0.005    0.003    0.003  2020  \n",
      "277222    0.005    0.005    0.004    0.004    0.004    0.003  2020  \n",
      "277265    0.005    0.003    0.003    0.003    0.003    0.002  2020  \n",
      "277310    0.005    0.004    0.004    0.003    0.003    0.002  2020  \n",
      "277355    0.005    0.005    0.004    0.004    0.003    0.003  2020  \n",
      "\n",
      "[582 rows x 29 columns]\n",
      "\n",
      "\n"
     ]
    },
    {
     "name": "stderr",
     "output_type": "stream",
     "text": [
      "/var/folders/gv/7bjgqyhj6td4g_cktv1tvblw0000gq/T/ipykernel_10088/1554872401.py:2: UserWarning: Boolean Series key will be reindexed to match DataFrame index.\n",
      "  nan_rows = combined_df[combined_df['YEAR'] == year][combined_df.isna().any(axis=1)]\n"
     ]
    },
    {
     "name": "stdout",
     "output_type": "stream",
     "text": [
      "Rows with NaN values in 2021 DataFrame:\n",
      "          CUSTOMER         AREA ISPRIVATEPERSON       DATE  HOUR_0  HOUR_1  \\\n",
      "279276  1060598781  Kvarnholmen             Nej 2021-07-27   0.000   0.000   \n",
      "279400  1060598781  Kvarnholmen             Nej 2021-11-28   0.000   0.000   \n",
      "279401  1060598781  Kvarnholmen             Nej 2021-11-29   0.000   0.000   \n",
      "281957  1060598956  Kvarnholmen             Nej 2021-01-18     NaN     NaN   \n",
      "281960  1060598956  Kvarnholmen             Nej 2021-01-22     NaN     NaN   \n",
      "...            ...          ...             ...        ...     ...     ...   \n",
      "574323  1969676870        Berga             Nej 2021-02-09   0.003   0.003   \n",
      "574363  1969676874        Berga             Nej 2021-02-09   0.003   0.004   \n",
      "574403  1969676878        Berga             Nej 2021-02-09   0.004   0.004   \n",
      "574443  1969676882        Berga             Nej 2021-02-09   0.003   0.003   \n",
      "574483  1969676886        Berga             Nej 2021-02-09   0.005   0.004   \n",
      "\n",
      "        HOUR_2  HOUR_3  HOUR_4  HOUR_5  ...  HOUR_15  HOUR_16  HOUR_17  \\\n",
      "279276   0.000   0.000   0.000   0.000  ...      NaN      NaN      NaN   \n",
      "279400   0.000   0.000   0.000   0.000  ...    0.009    0.001      0.0   \n",
      "279401   0.000   0.000   0.000   0.000  ...      NaN      NaN      NaN   \n",
      "281957     NaN     NaN     NaN     NaN  ...      NaN      NaN      NaN   \n",
      "281960     NaN     NaN     NaN     NaN  ...      NaN      NaN      NaN   \n",
      "...        ...     ...     ...     ...  ...      ...      ...      ...   \n",
      "574323   0.003   0.002   0.002   0.003  ...      NaN      NaN      NaN   \n",
      "574363   0.003   0.003   0.003   0.004  ...      NaN      NaN      NaN   \n",
      "574403   0.004   0.004   0.004   0.004  ...      NaN      NaN      NaN   \n",
      "574443   0.003   0.003   0.003   0.004  ...      NaN      NaN      NaN   \n",
      "574483   0.005   0.005   0.005   0.005  ...      NaN      NaN      NaN   \n",
      "\n",
      "        HOUR_18  HOUR_19  HOUR_20  HOUR_21  HOUR_22  HOUR_23  YEAR  \n",
      "279276      NaN      NaN      NaN      NaN      NaN      NaN  2021  \n",
      "279400      0.0      NaN      NaN      NaN      NaN      NaN  2021  \n",
      "279401      NaN      NaN      NaN      NaN      NaN      NaN  2021  \n",
      "281957      NaN      NaN      0.0      0.0      0.0      0.0  2021  \n",
      "281960      NaN      NaN      NaN      NaN      NaN      0.0  2021  \n",
      "...         ...      ...      ...      ...      ...      ...   ...  \n",
      "574323      NaN      NaN      NaN      NaN      NaN      NaN  2021  \n",
      "574363      NaN      NaN      NaN      NaN      NaN      NaN  2021  \n",
      "574403      NaN      NaN      NaN      NaN      NaN      NaN  2021  \n",
      "574443      NaN      NaN      NaN      NaN      NaN      NaN  2021  \n",
      "574483      NaN      NaN      NaN      NaN      NaN      NaN  2021  \n",
      "\n",
      "[1331 rows x 29 columns]\n",
      "\n",
      "\n"
     ]
    },
    {
     "name": "stderr",
     "output_type": "stream",
     "text": [
      "/var/folders/gv/7bjgqyhj6td4g_cktv1tvblw0000gq/T/ipykernel_10088/1554872401.py:2: UserWarning: Boolean Series key will be reindexed to match DataFrame index.\n",
      "  nan_rows = combined_df[combined_df['YEAR'] == year][combined_df.isna().any(axis=1)]\n"
     ]
    },
    {
     "name": "stdout",
     "output_type": "stream",
     "text": [
      "Rows with NaN values in 2022 DataFrame:\n",
      "           CUSTOMER         AREA ISPRIVATEPERSON       DATE  HOUR_0  HOUR_1  \\\n",
      "586859   1060598781  Kvarnholmen             Nej 2022-04-20   0.000   0.000   \n",
      "587029   1060598788  Kvarnholmen             Nej 2022-04-20   0.000   0.001   \n",
      "590101   1060598956  Kvarnholmen             Nej 2022-01-01     NaN     NaN   \n",
      "590102   1060598956  Kvarnholmen             Nej 2022-01-02     NaN     NaN   \n",
      "590103   1060598956  Kvarnholmen             Nej 2022-01-03     NaN     NaN   \n",
      "...             ...          ...             ...        ...     ...     ...   \n",
      "1240126  1919047861  Kvarnholmen             Nej 2022-02-09   0.001   0.001   \n",
      "1276373  2244169945        Berga             Nej 2022-11-01     NaN     NaN   \n",
      "1276434  2244169951        Berga             Nej 2022-11-01     NaN     NaN   \n",
      "1276495  2261780058       Malmen              Ja 2022-12-21     NaN     NaN   \n",
      "1276506  2261780064       Malmen              Ja 2022-12-21     NaN     NaN   \n",
      "\n",
      "         HOUR_2  HOUR_3  HOUR_4  HOUR_5  ...  HOUR_15  HOUR_16  HOUR_17  \\\n",
      "586859    0.000   0.000   0.000   0.000  ...    0.009    0.009    0.009   \n",
      "587029    0.000   0.000   0.000   0.000  ...    0.008    0.009      NaN   \n",
      "590101      NaN     NaN     NaN     NaN  ...      NaN      NaN      NaN   \n",
      "590102      NaN     NaN     NaN     NaN  ...      NaN      NaN      NaN   \n",
      "590103      NaN     NaN     NaN     NaN  ...      NaN      NaN      NaN   \n",
      "...         ...     ...     ...     ...  ...      ...      ...      ...   \n",
      "1240126   0.001   0.001   0.001   0.001  ...      NaN      NaN      NaN   \n",
      "1276373     NaN     NaN     NaN     NaN  ...    0.000    0.000    0.000   \n",
      "1276434     NaN     NaN     NaN     NaN  ...    0.000    0.000    0.000   \n",
      "1276495     NaN     NaN     NaN     NaN  ...      NaN      NaN    0.000   \n",
      "1276506     NaN     NaN     NaN     NaN  ...      NaN      NaN    0.000   \n",
      "\n",
      "         HOUR_18  HOUR_19  HOUR_20  HOUR_21  HOUR_22  HOUR_23  YEAR  \n",
      "586859       NaN      NaN      NaN      NaN      NaN      NaN  2022  \n",
      "587029       NaN      NaN      NaN      NaN      NaN      NaN  2022  \n",
      "590101       NaN      NaN      NaN      NaN      NaN    0.032  2022  \n",
      "590102       NaN      NaN      NaN      NaN      NaN    0.032  2022  \n",
      "590103       NaN      NaN      NaN      NaN      NaN    0.040  2022  \n",
      "...          ...      ...      ...      ...      ...      ...   ...  \n",
      "1240126      NaN      NaN      NaN      NaN      NaN      NaN  2022  \n",
      "1276373      0.0      0.0      0.0      0.0      0.0    0.000  2022  \n",
      "1276434      0.0      0.0      0.0      0.0      0.0    0.000  2022  \n",
      "1276495      0.0      0.0      0.0      0.0      0.0    0.000  2022  \n",
      "1276506      0.0      0.0      0.0      0.0      0.0    0.000  2022  \n",
      "\n",
      "[398 rows x 29 columns]\n",
      "\n",
      "\n",
      "Rows with NaN values in 2023 DataFrame:\n",
      "Empty DataFrame\n",
      "Columns: [CUSTOMER, AREA, ISPRIVATEPERSON, DATE, HOUR_0, HOUR_1, HOUR_2, HOUR_3, HOUR_4, HOUR_5, HOUR_6, HOUR_7, HOUR_8, HOUR_9, HOUR_10, HOUR_11, HOUR_12, HOUR_13, HOUR_14, HOUR_15, HOUR_16, HOUR_17, HOUR_18, HOUR_19, HOUR_20, HOUR_21, HOUR_22, HOUR_23, YEAR]\n",
      "Index: []\n",
      "\n",
      "[0 rows x 29 columns]\n",
      "\n",
      "\n"
     ]
    },
    {
     "name": "stderr",
     "output_type": "stream",
     "text": [
      "/var/folders/gv/7bjgqyhj6td4g_cktv1tvblw0000gq/T/ipykernel_10088/1554872401.py:2: UserWarning: Boolean Series key will be reindexed to match DataFrame index.\n",
      "  nan_rows = combined_df[combined_df['YEAR'] == year][combined_df.isna().any(axis=1)]\n"
     ]
    }
   ],
   "source": [
    "for year in years:\n",
    "    nan_rows = combined_df[combined_df['YEAR'] == year][combined_df.isna().any(axis=1)]\n",
    "    print(f\"Rows with NaN values in {year} DataFrame:\")\n",
    "    print(nan_rows)\n",
    "    print(\"\\n\")"
   ]
  },
  {
   "cell_type": "markdown",
   "metadata": {},
   "source": [
    "## ROW-WISE MEAN IMPUTATION  "
   ]
  },
  {
   "cell_type": "markdown",
   "metadata": {},
   "source": [
    "## Mean Imputation is by default column-wise which means imputation strategy will replace missing values (NaNs) with the mean value of the respective column.\n",
    "## Apply row-wise Mean Imputation which means: replacing all the outliers: (High values compared to the power usage threshold which I defined for Residential:0.03MWh and Commercial:3MWh, negative values, and Nan values)."
   ]
  },
  {
   "cell_type": "markdown",
   "metadata": {},
   "source": [
    "## If we are still seeing null values after performing the row-wise mean imputation, it could be due to that all values in a row are NaN or invalid: If an entire row (for all the hourly columns) consists of NaN or invalid values, the mean would also be NaN since there are no valid values to calculate the mean from. Ex: Customer id 1060676202 in 2020 Solution: define the minimum number of non-NaN hourly values required to keep a row."
   ]
  },
  {
   "cell_type": "code",
   "execution_count": 10,
   "metadata": {},
   "outputs": [
    {
     "name": "stdout",
     "output_type": "stream",
     "text": [
      "Requirement already satisfied: numpy in /Users/oxana/anaconda3/lib/python3.11/site-packages (1.24.3)\n"
     ]
    }
   ],
   "source": [
    "!pip install numpy"
   ]
  },
  {
   "cell_type": "code",
   "execution_count": 11,
   "metadata": {},
   "outputs": [
    {
     "name": "stderr",
     "output_type": "stream",
     "text": [
      "/var/folders/gv/7bjgqyhj6td4g_cktv1tvblw0000gq/T/ipykernel_10088/1862490935.py:12: SettingWithCopyWarning: \n",
      "A value is trying to be set on a copy of a slice from a DataFrame.\n",
      "Try using .loc[row_indexer,col_indexer] = value instead\n",
      "\n",
      "See the caveats in the documentation: https://pandas.pydata.org/pandas-docs/stable/user_guide/indexing.html#returning-a-view-versus-a-copy\n",
      "  df_filtered[hour_columns] = df_filtered[hour_columns].mask((df_filtered[hour_columns] < 0) | (df_filtered[hour_columns].gt(thresholds, axis=0)))\n",
      "/var/folders/gv/7bjgqyhj6td4g_cktv1tvblw0000gq/T/ipykernel_10088/1862490935.py:18: SettingWithCopyWarning: \n",
      "A value is trying to be set on a copy of a slice from a DataFrame.\n",
      "Try using .loc[row_indexer,col_indexer] = value instead\n",
      "\n",
      "See the caveats in the documentation: https://pandas.pydata.org/pandas-docs/stable/user_guide/indexing.html#returning-a-view-versus-a-copy\n",
      "  df_filtered[hour_columns] = df_filtered[hour_columns].apply(lambda x: x.fillna(row_means[x.name]), axis=1)\n"
     ]
    }
   ],
   "source": [
    "def replace_invalid_with_row_mean(df, residential_threshold, commercial_threshold, min_non_nan=3):\n",
    "    # Operate only on the hour columns\n",
    "    hour_columns = [f'HOUR_{i}' for i in range(24)]\n",
    "    \n",
    "    # Filter out rows that don't meet the threshold for non-NaN values\n",
    "    df_filtered = df.dropna(thresh=min_non_nan, subset=hour_columns)\n",
    "    \n",
    "    # Determine thresholds based on customer type\n",
    "    thresholds = df_filtered['ISPRIVATEPERSON'].map(lambda x: residential_threshold if x == 'Ja' else commercial_threshold)\n",
    "    \n",
    "    # Mask the values that are either above their respective thresholds or negative\n",
    "    df_filtered[hour_columns] = df_filtered[hour_columns].mask((df_filtered[hour_columns] < 0) | (df_filtered[hour_columns].gt(thresholds, axis=0)))\n",
    "    \n",
    "    # Calculate the mean for each row excluding NaNs\n",
    "    row_means = df_filtered[hour_columns].mean(axis=1)\n",
    "    \n",
    "    # Replace NaNs with the row's mean\n",
    "    df_filtered[hour_columns] = df_filtered[hour_columns].apply(lambda x: x.fillna(row_means[x.name]), axis=1)\n",
    "    \n",
    "    return df_filtered\n",
    "\n",
    "# Define your thresholds\n",
    "residential_threshold = 0.03  # 0.03 MWh for residential\n",
    "commercial_threshold = 3      # 3 MWh for commercial\n",
    "\n",
    "# Define the minimum number of non-NaN hourly values required to keep a row\n",
    "min_non_nan_values = 3\n",
    "\n",
    "# Apply the function to the combined DataFrame\n",
    "combined_df = replace_invalid_with_row_mean(combined_df, residential_threshold, commercial_threshold, min_non_nan_values)"
   ]
  },
  {
   "cell_type": "code",
   "execution_count": 12,
   "metadata": {},
   "outputs": [
    {
     "data": {
      "text/plain": [
       "CUSTOMER           0\n",
       "AREA               0\n",
       "ISPRIVATEPERSON    0\n",
       "DATE               0\n",
       "HOUR_0             0\n",
       "HOUR_1             0\n",
       "HOUR_2             0\n",
       "HOUR_3             0\n",
       "HOUR_4             0\n",
       "HOUR_5             0\n",
       "HOUR_6             0\n",
       "HOUR_7             0\n",
       "HOUR_8             0\n",
       "HOUR_9             0\n",
       "HOUR_10            0\n",
       "HOUR_11            0\n",
       "HOUR_12            0\n",
       "HOUR_13            0\n",
       "HOUR_14            0\n",
       "HOUR_15            0\n",
       "HOUR_16            0\n",
       "HOUR_17            0\n",
       "HOUR_18            0\n",
       "HOUR_19            0\n",
       "HOUR_20            0\n",
       "HOUR_21            0\n",
       "HOUR_22            0\n",
       "HOUR_23            0\n",
       "YEAR               0\n",
       "dtype: int64"
      ]
     },
     "execution_count": 12,
     "metadata": {},
     "output_type": "execute_result"
    }
   ],
   "source": [
    "combined_df.isnull().sum() "
   ]
  },
  {
   "cell_type": "code",
   "execution_count": 13,
   "metadata": {},
   "outputs": [
    {
     "data": {
      "text/plain": [
       "array(['Kvarnholmen', 'Malmen', 'Berga', 'Stensö'], dtype=object)"
      ]
     },
     "execution_count": 13,
     "metadata": {},
     "output_type": "execute_result"
    }
   ],
   "source": [
    "combined_df['AREA'].unique()"
   ]
  },
  {
   "cell_type": "code",
   "execution_count": 14,
   "metadata": {},
   "outputs": [
    {
     "data": {
      "text/html": [
       "<div>\n",
       "<style scoped>\n",
       "    .dataframe tbody tr th:only-of-type {\n",
       "        vertical-align: middle;\n",
       "    }\n",
       "\n",
       "    .dataframe tbody tr th {\n",
       "        vertical-align: top;\n",
       "    }\n",
       "\n",
       "    .dataframe thead th {\n",
       "        text-align: right;\n",
       "    }\n",
       "</style>\n",
       "<table border=\"1\" class=\"dataframe\">\n",
       "  <thead>\n",
       "    <tr style=\"text-align: right;\">\n",
       "      <th></th>\n",
       "      <th>CUSTOMER</th>\n",
       "      <th>AREA</th>\n",
       "      <th>ISPRIVATEPERSON</th>\n",
       "      <th>DATE</th>\n",
       "      <th>HOUR_0</th>\n",
       "      <th>HOUR_1</th>\n",
       "      <th>HOUR_2</th>\n",
       "      <th>HOUR_3</th>\n",
       "      <th>HOUR_4</th>\n",
       "      <th>HOUR_5</th>\n",
       "      <th>...</th>\n",
       "      <th>HOUR_15</th>\n",
       "      <th>HOUR_16</th>\n",
       "      <th>HOUR_17</th>\n",
       "      <th>HOUR_18</th>\n",
       "      <th>HOUR_19</th>\n",
       "      <th>HOUR_20</th>\n",
       "      <th>HOUR_21</th>\n",
       "      <th>HOUR_22</th>\n",
       "      <th>HOUR_23</th>\n",
       "      <th>YEAR</th>\n",
       "    </tr>\n",
       "  </thead>\n",
       "  <tbody>\n",
       "    <tr>\n",
       "      <th>0</th>\n",
       "      <td>1060598736</td>\n",
       "      <td>Kvarnholmen</td>\n",
       "      <td>Nej</td>\n",
       "      <td>2020-01-01</td>\n",
       "      <td>0.011</td>\n",
       "      <td>0.012</td>\n",
       "      <td>0.012</td>\n",
       "      <td>0.012</td>\n",
       "      <td>0.013</td>\n",
       "      <td>0.012</td>\n",
       "      <td>...</td>\n",
       "      <td>0.010</td>\n",
       "      <td>0.009</td>\n",
       "      <td>0.010</td>\n",
       "      <td>0.010</td>\n",
       "      <td>0.011</td>\n",
       "      <td>0.011</td>\n",
       "      <td>0.011</td>\n",
       "      <td>0.010</td>\n",
       "      <td>0.010</td>\n",
       "      <td>2020</td>\n",
       "    </tr>\n",
       "    <tr>\n",
       "      <th>1</th>\n",
       "      <td>1060598736</td>\n",
       "      <td>Kvarnholmen</td>\n",
       "      <td>Nej</td>\n",
       "      <td>2020-01-02</td>\n",
       "      <td>0.010</td>\n",
       "      <td>0.009</td>\n",
       "      <td>0.009</td>\n",
       "      <td>0.009</td>\n",
       "      <td>0.010</td>\n",
       "      <td>0.009</td>\n",
       "      <td>...</td>\n",
       "      <td>0.009</td>\n",
       "      <td>0.009</td>\n",
       "      <td>0.010</td>\n",
       "      <td>0.010</td>\n",
       "      <td>0.009</td>\n",
       "      <td>0.011</td>\n",
       "      <td>0.011</td>\n",
       "      <td>0.011</td>\n",
       "      <td>0.010</td>\n",
       "      <td>2020</td>\n",
       "    </tr>\n",
       "    <tr>\n",
       "      <th>2</th>\n",
       "      <td>1060598736</td>\n",
       "      <td>Kvarnholmen</td>\n",
       "      <td>Nej</td>\n",
       "      <td>2020-01-03</td>\n",
       "      <td>0.011</td>\n",
       "      <td>0.011</td>\n",
       "      <td>0.011</td>\n",
       "      <td>0.010</td>\n",
       "      <td>0.010</td>\n",
       "      <td>0.010</td>\n",
       "      <td>...</td>\n",
       "      <td>0.010</td>\n",
       "      <td>0.010</td>\n",
       "      <td>0.011</td>\n",
       "      <td>0.011</td>\n",
       "      <td>0.011</td>\n",
       "      <td>0.011</td>\n",
       "      <td>0.010</td>\n",
       "      <td>0.010</td>\n",
       "      <td>0.011</td>\n",
       "      <td>2020</td>\n",
       "    </tr>\n",
       "    <tr>\n",
       "      <th>3</th>\n",
       "      <td>1060598736</td>\n",
       "      <td>Kvarnholmen</td>\n",
       "      <td>Nej</td>\n",
       "      <td>2020-01-04</td>\n",
       "      <td>0.010</td>\n",
       "      <td>0.009</td>\n",
       "      <td>0.009</td>\n",
       "      <td>0.009</td>\n",
       "      <td>0.010</td>\n",
       "      <td>0.009</td>\n",
       "      <td>...</td>\n",
       "      <td>0.011</td>\n",
       "      <td>0.011</td>\n",
       "      <td>0.012</td>\n",
       "      <td>0.008</td>\n",
       "      <td>0.009</td>\n",
       "      <td>0.011</td>\n",
       "      <td>0.012</td>\n",
       "      <td>0.011</td>\n",
       "      <td>0.011</td>\n",
       "      <td>2020</td>\n",
       "    </tr>\n",
       "    <tr>\n",
       "      <th>4</th>\n",
       "      <td>1060598736</td>\n",
       "      <td>Kvarnholmen</td>\n",
       "      <td>Nej</td>\n",
       "      <td>2020-01-05</td>\n",
       "      <td>0.011</td>\n",
       "      <td>0.011</td>\n",
       "      <td>0.010</td>\n",
       "      <td>0.011</td>\n",
       "      <td>0.011</td>\n",
       "      <td>0.011</td>\n",
       "      <td>...</td>\n",
       "      <td>0.012</td>\n",
       "      <td>0.011</td>\n",
       "      <td>0.012</td>\n",
       "      <td>0.011</td>\n",
       "      <td>0.012</td>\n",
       "      <td>0.011</td>\n",
       "      <td>0.011</td>\n",
       "      <td>0.011</td>\n",
       "      <td>0.011</td>\n",
       "      <td>2020</td>\n",
       "    </tr>\n",
       "    <tr>\n",
       "      <th>...</th>\n",
       "      <td>...</td>\n",
       "      <td>...</td>\n",
       "      <td>...</td>\n",
       "      <td>...</td>\n",
       "      <td>...</td>\n",
       "      <td>...</td>\n",
       "      <td>...</td>\n",
       "      <td>...</td>\n",
       "      <td>...</td>\n",
       "      <td>...</td>\n",
       "      <td>...</td>\n",
       "      <td>...</td>\n",
       "      <td>...</td>\n",
       "      <td>...</td>\n",
       "      <td>...</td>\n",
       "      <td>...</td>\n",
       "      <td>...</td>\n",
       "      <td>...</td>\n",
       "      <td>...</td>\n",
       "      <td>...</td>\n",
       "      <td>...</td>\n",
       "    </tr>\n",
       "    <tr>\n",
       "      <th>3614800</th>\n",
       "      <td>2411311923</td>\n",
       "      <td>Malmen</td>\n",
       "      <td>Ja</td>\n",
       "      <td>2023-12-27</td>\n",
       "      <td>0.000</td>\n",
       "      <td>0.000</td>\n",
       "      <td>0.000</td>\n",
       "      <td>0.000</td>\n",
       "      <td>0.000</td>\n",
       "      <td>0.000</td>\n",
       "      <td>...</td>\n",
       "      <td>0.000</td>\n",
       "      <td>0.000</td>\n",
       "      <td>0.000</td>\n",
       "      <td>0.000</td>\n",
       "      <td>0.000</td>\n",
       "      <td>0.000</td>\n",
       "      <td>0.000</td>\n",
       "      <td>0.000</td>\n",
       "      <td>0.000</td>\n",
       "      <td>2023</td>\n",
       "    </tr>\n",
       "    <tr>\n",
       "      <th>3614801</th>\n",
       "      <td>2411311923</td>\n",
       "      <td>Malmen</td>\n",
       "      <td>Ja</td>\n",
       "      <td>2023-12-28</td>\n",
       "      <td>0.000</td>\n",
       "      <td>0.000</td>\n",
       "      <td>0.000</td>\n",
       "      <td>0.000</td>\n",
       "      <td>0.000</td>\n",
       "      <td>0.000</td>\n",
       "      <td>...</td>\n",
       "      <td>0.000</td>\n",
       "      <td>0.000</td>\n",
       "      <td>0.000</td>\n",
       "      <td>0.000</td>\n",
       "      <td>0.000</td>\n",
       "      <td>0.000</td>\n",
       "      <td>0.000</td>\n",
       "      <td>0.000</td>\n",
       "      <td>0.000</td>\n",
       "      <td>2023</td>\n",
       "    </tr>\n",
       "    <tr>\n",
       "      <th>3614802</th>\n",
       "      <td>2411311923</td>\n",
       "      <td>Malmen</td>\n",
       "      <td>Ja</td>\n",
       "      <td>2023-12-29</td>\n",
       "      <td>0.000</td>\n",
       "      <td>0.000</td>\n",
       "      <td>0.000</td>\n",
       "      <td>0.000</td>\n",
       "      <td>0.000</td>\n",
       "      <td>0.000</td>\n",
       "      <td>...</td>\n",
       "      <td>0.000</td>\n",
       "      <td>0.000</td>\n",
       "      <td>0.000</td>\n",
       "      <td>0.000</td>\n",
       "      <td>0.000</td>\n",
       "      <td>0.000</td>\n",
       "      <td>0.000</td>\n",
       "      <td>0.000</td>\n",
       "      <td>0.000</td>\n",
       "      <td>2023</td>\n",
       "    </tr>\n",
       "    <tr>\n",
       "      <th>3614803</th>\n",
       "      <td>2411311923</td>\n",
       "      <td>Malmen</td>\n",
       "      <td>Ja</td>\n",
       "      <td>2023-12-30</td>\n",
       "      <td>0.000</td>\n",
       "      <td>0.000</td>\n",
       "      <td>0.000</td>\n",
       "      <td>0.000</td>\n",
       "      <td>0.000</td>\n",
       "      <td>0.000</td>\n",
       "      <td>...</td>\n",
       "      <td>0.000</td>\n",
       "      <td>0.000</td>\n",
       "      <td>0.000</td>\n",
       "      <td>0.000</td>\n",
       "      <td>0.000</td>\n",
       "      <td>0.000</td>\n",
       "      <td>0.000</td>\n",
       "      <td>0.000</td>\n",
       "      <td>0.000</td>\n",
       "      <td>2023</td>\n",
       "    </tr>\n",
       "    <tr>\n",
       "      <th>3614804</th>\n",
       "      <td>2411311923</td>\n",
       "      <td>Malmen</td>\n",
       "      <td>Ja</td>\n",
       "      <td>2023-12-31</td>\n",
       "      <td>0.000</td>\n",
       "      <td>0.000</td>\n",
       "      <td>0.000</td>\n",
       "      <td>0.000</td>\n",
       "      <td>0.000</td>\n",
       "      <td>0.000</td>\n",
       "      <td>...</td>\n",
       "      <td>0.000</td>\n",
       "      <td>0.000</td>\n",
       "      <td>0.000</td>\n",
       "      <td>0.000</td>\n",
       "      <td>0.000</td>\n",
       "      <td>0.000</td>\n",
       "      <td>0.000</td>\n",
       "      <td>0.000</td>\n",
       "      <td>0.000</td>\n",
       "      <td>2023</td>\n",
       "    </tr>\n",
       "  </tbody>\n",
       "</table>\n",
       "<p>3612918 rows × 29 columns</p>\n",
       "</div>"
      ],
      "text/plain": [
       "           CUSTOMER         AREA ISPRIVATEPERSON       DATE  HOUR_0  HOUR_1  \\\n",
       "0        1060598736  Kvarnholmen             Nej 2020-01-01   0.011   0.012   \n",
       "1        1060598736  Kvarnholmen             Nej 2020-01-02   0.010   0.009   \n",
       "2        1060598736  Kvarnholmen             Nej 2020-01-03   0.011   0.011   \n",
       "3        1060598736  Kvarnholmen             Nej 2020-01-04   0.010   0.009   \n",
       "4        1060598736  Kvarnholmen             Nej 2020-01-05   0.011   0.011   \n",
       "...             ...          ...             ...        ...     ...     ...   \n",
       "3614800  2411311923       Malmen              Ja 2023-12-27   0.000   0.000   \n",
       "3614801  2411311923       Malmen              Ja 2023-12-28   0.000   0.000   \n",
       "3614802  2411311923       Malmen              Ja 2023-12-29   0.000   0.000   \n",
       "3614803  2411311923       Malmen              Ja 2023-12-30   0.000   0.000   \n",
       "3614804  2411311923       Malmen              Ja 2023-12-31   0.000   0.000   \n",
       "\n",
       "         HOUR_2  HOUR_3  HOUR_4  HOUR_5  ...  HOUR_15  HOUR_16  HOUR_17  \\\n",
       "0         0.012   0.012   0.013   0.012  ...    0.010    0.009    0.010   \n",
       "1         0.009   0.009   0.010   0.009  ...    0.009    0.009    0.010   \n",
       "2         0.011   0.010   0.010   0.010  ...    0.010    0.010    0.011   \n",
       "3         0.009   0.009   0.010   0.009  ...    0.011    0.011    0.012   \n",
       "4         0.010   0.011   0.011   0.011  ...    0.012    0.011    0.012   \n",
       "...         ...     ...     ...     ...  ...      ...      ...      ...   \n",
       "3614800   0.000   0.000   0.000   0.000  ...    0.000    0.000    0.000   \n",
       "3614801   0.000   0.000   0.000   0.000  ...    0.000    0.000    0.000   \n",
       "3614802   0.000   0.000   0.000   0.000  ...    0.000    0.000    0.000   \n",
       "3614803   0.000   0.000   0.000   0.000  ...    0.000    0.000    0.000   \n",
       "3614804   0.000   0.000   0.000   0.000  ...    0.000    0.000    0.000   \n",
       "\n",
       "         HOUR_18  HOUR_19  HOUR_20  HOUR_21  HOUR_22  HOUR_23  YEAR  \n",
       "0          0.010    0.011    0.011    0.011    0.010    0.010  2020  \n",
       "1          0.010    0.009    0.011    0.011    0.011    0.010  2020  \n",
       "2          0.011    0.011    0.011    0.010    0.010    0.011  2020  \n",
       "3          0.008    0.009    0.011    0.012    0.011    0.011  2020  \n",
       "4          0.011    0.012    0.011    0.011    0.011    0.011  2020  \n",
       "...          ...      ...      ...      ...      ...      ...   ...  \n",
       "3614800    0.000    0.000    0.000    0.000    0.000    0.000  2023  \n",
       "3614801    0.000    0.000    0.000    0.000    0.000    0.000  2023  \n",
       "3614802    0.000    0.000    0.000    0.000    0.000    0.000  2023  \n",
       "3614803    0.000    0.000    0.000    0.000    0.000    0.000  2023  \n",
       "3614804    0.000    0.000    0.000    0.000    0.000    0.000  2023  \n",
       "\n",
       "[3612918 rows x 29 columns]"
      ]
     },
     "execution_count": 14,
     "metadata": {},
     "output_type": "execute_result"
    }
   ],
   "source": [
    "combined_df # Before row-wise imputation rules: 3614805 rows After row-wise imputation rules: 3612918"
   ]
  },
  {
   "cell_type": "markdown",
   "metadata": {},
   "source": [
    "## Test if there is still any Nan values in the dataframe!"
   ]
  },
  {
   "cell_type": "code",
   "execution_count": 15,
   "metadata": {},
   "outputs": [
    {
     "name": "stdout",
     "output_type": "stream",
     "text": [
      "Empty DataFrame\n",
      "Columns: [CUSTOMER, AREA, ISPRIVATEPERSON, DATE, HOUR_0, HOUR_1, HOUR_2, HOUR_3, HOUR_4, HOUR_5, HOUR_6, HOUR_7, HOUR_8, HOUR_9, HOUR_10, HOUR_11, HOUR_12, HOUR_13, HOUR_14, HOUR_15, HOUR_16, HOUR_17, HOUR_18, HOUR_19, HOUR_20, HOUR_21, HOUR_22, HOUR_23, YEAR]\n",
      "Index: []\n",
      "\n",
      "[0 rows x 29 columns]\n"
     ]
    }
   ],
   "source": [
    "# Find rows in combined_df that still have any null values\n",
    "rows_with_nan = combined_df[combined_df.isnull().any(axis=1)]\n",
    "\n",
    "# Display the rows with NaN values\n",
    "print(rows_with_nan)"
   ]
  },
  {
   "cell_type": "markdown",
   "metadata": {},
   "source": [
    "## Plot boxplot again to see the difference"
   ]
  },
  {
   "cell_type": "code",
   "execution_count": 16,
   "metadata": {},
   "outputs": [
    {
     "data": {
      "text/plain": [
       "\" import matplotlib.pyplot as plt\\n\\n# List of DataFrames for iteration\\ndfs = [df_2020_cleaned, df_2021_cleaned, df_2022_cleaned, df_2023_cleaned]\\nyears = ['2020', '2021', '2022', '2023']\\n\\n# Plotting boxplots for each DataFrame\\nfor df, year in zip(dfs, years):\\n    # Selecting only the hour columns\\n    hours_data = df.filter(regex='^HOUR_')\\n    \\n    # Plotting\\n    plt.figure(figsize=(15, 5))\\n    hours_data.boxplot()\\n    plt.title(f'Hourly Power Consumption Boxplot for {year}')\\n    plt.ylabel('Power Consumption (MWh)')\\n    plt.xlabel('Hour of the Day')\\n    plt.xticks(rotation=90)\\n    plt.grid(False)\\n    plt.show()\\n    \""
      ]
     },
     "execution_count": 16,
     "metadata": {},
     "output_type": "execute_result"
    }
   ],
   "source": [
    "''' import matplotlib.pyplot as plt\n",
    "\n",
    "# List of DataFrames for iteration\n",
    "dfs = [df_2020_cleaned, df_2021_cleaned, df_2022_cleaned, df_2023_cleaned]\n",
    "years = ['2020', '2021', '2022', '2023']\n",
    "\n",
    "# Plotting boxplots for each DataFrame\n",
    "for df, year in zip(dfs, years):\n",
    "    # Selecting only the hour columns\n",
    "    hours_data = df.filter(regex='^HOUR_')\n",
    "    \n",
    "    # Plotting\n",
    "    plt.figure(figsize=(15, 5))\n",
    "    hours_data.boxplot()\n",
    "    plt.title(f'Hourly Power Consumption Boxplot for {year}')\n",
    "    plt.ylabel('Power Consumption (MWh)')\n",
    "    plt.xlabel('Hour of the Day')\n",
    "    plt.xticks(rotation=90)\n",
    "    plt.grid(False)\n",
    "    plt.show()\n",
    "    '''"
   ]
  },
  {
   "cell_type": "markdown",
   "metadata": {},
   "source": [
    "## Visualization "
   ]
  },
  {
   "cell_type": "code",
   "execution_count": 17,
   "metadata": {},
   "outputs": [
    {
     "data": {
      "text/plain": [
       "ISPRIVATEPERSON\n",
       "Ja     5097\n",
       "Nej    1388\n",
       "Name: CUSTOMER, dtype: int64"
      ]
     },
     "execution_count": 17,
     "metadata": {},
     "output_type": "execute_result"
    }
   ],
   "source": [
    "customer_counts = combined_df.groupby('ISPRIVATEPERSON')['CUSTOMER'].nunique()\n",
    "customer_counts"
   ]
  },
  {
   "cell_type": "code",
   "execution_count": 18,
   "metadata": {},
   "outputs": [
    {
     "data": {
      "image/png": "[encoded data removed]",
      "text/plain": [
       "<Figure size 640x480 with 1 Axes>"
      ]
     },
     "metadata": {},
     "output_type": "display_data"
    }
   ],
   "source": [
    "import matplotlib.pyplot as plt\n",
    "customer_counts.plot(kind='bar')\n",
    "plt.title('Number of Customers by Private Person Category')\n",
    "plt.xlabel('Is Private Person')\n",
    "plt.ylabel('Number of Customers')\n",
    "plt.xticks(rotation=0)  # To keep the labels on the x-axis vertical\n",
    "plt.show()"
   ]
  },
  {
   "cell_type": "code",
   "execution_count": 19,
   "metadata": {},
   "outputs": [],
   "source": [
    "import pandas as pd\n",
    "import matplotlib.pyplot as plt\n",
    "\n",
    "# Assuming you have loaded your data into a pandas DataFrame named 'data'\n",
    "# Replace 'Nej' with 'Commercial', 'Ja' with 'Private', and map 'Unknown' or other values as needed\n",
    "combined_df['ISPRIVATEPERSON'] = combined_df['ISPRIVATEPERSON'].map({\n",
    "    'Nej': 'Commercial',\n",
    "    'Ja': 'Residential',\n",
    "})\n",
    "\n",
    "# Now calculate the number of unique customers for the new categories\n",
    "customer_counts = combined_df.groupby('ISPRIVATEPERSON')['CUSTOMER'].nunique()\n"
   ]
  },
  {
   "cell_type": "code",
   "execution_count": 20,
   "metadata": {},
   "outputs": [
    {
     "data": {
      "image/png": "[encoded data removed]",
      "text/plain": [
       "<Figure size 640x480 with 1 Axes>"
      ]
     },
     "metadata": {},
     "output_type": "display_data"
    }
   ],
   "source": [
    "# Now calculate the number of unique customers for the new categories\n",
    "customer_counts = combined_df.groupby('ISPRIVATEPERSON')['CUSTOMER'].nunique()\n",
    "\n",
    "# Plot the pie chart with the actual numbers and the total\n",
    "total_customers = customer_counts.sum()\n",
    "customer_counts.plot(kind='pie', autopct=lambda p: f'{p * total_customers / 100 :.0f}', startangle=90, labels=customer_counts.index)\n",
    "plt.title(f'Customer Distribution by Category - Total: {total_customers}')\n",
    "plt.ylabel('')\n",
    "plt.show()"
   ]
  },
  {
   "cell_type": "code",
   "execution_count": 21,
   "metadata": {},
   "outputs": [
    {
     "data": {
      "image/png": "[encoded data removed]",
      "text/plain": [
       "<Figure size 640x480 with 1 Axes>"
      ]
     },
     "metadata": {},
     "output_type": "display_data"
    }
   ],
   "source": [
    "import seaborn as sns\n",
    "import matplotlib.pyplot as plt\n",
    "\n",
    "# Set the aesthetic style of the plots\n",
    "sns.set_style(\"whitegrid\")\n",
    "\n",
    "# count unique customers per year split by category\n",
    "customer_yearly = combined_df.groupby(['YEAR', 'ISPRIVATEPERSON'])['CUSTOMER'].nunique().unstack()\n",
    "\n",
    "# Plot the stacked bar chart using seaborn\n",
    "ax = customer_yearly.plot(kind='bar', stacked=True, legend=False)\n",
    "# Display the total unique number of customers in combined dataframe\n",
    "total_unique_customers = combined_df['CUSTOMER'].nunique()\n",
    "\n",
    "plt.xlabel('Year')\n",
    "plt.ylabel('Number of Unique Customers')\n",
    "\n",
    "# Add labels on top of each stacked bar with the total number of customers for that year\n",
    "for container in ax.containers:\n",
    "    ax.bar_label(container, label_type='center')\n",
    "\n",
    "# Move the legend outside of the plot\n",
    "plt.legend(title='', bbox_to_anchor=(1.05, 1), loc='upper left')\n",
    "\n",
    "# Add a title with the total unique customers\n",
    "plt.title(f'Total Unique Customers: {total_unique_customers}')\n",
    "\n",
    "plt.show()\n",
    "\n"
   ]
  },
  {
   "cell_type": "code",
   "execution_count": 22,
   "metadata": {},
   "outputs": [
    {
     "data": {
      "text/plain": [
       "CUSTOMER           0\n",
       "AREA               0\n",
       "ISPRIVATEPERSON    0\n",
       "DATE               0\n",
       "HOUR_0             0\n",
       "HOUR_1             0\n",
       "HOUR_2             0\n",
       "HOUR_3             0\n",
       "HOUR_4             0\n",
       "HOUR_5             0\n",
       "HOUR_6             0\n",
       "HOUR_7             0\n",
       "HOUR_8             0\n",
       "HOUR_9             0\n",
       "HOUR_10            0\n",
       "HOUR_11            0\n",
       "HOUR_12            0\n",
       "HOUR_13            0\n",
       "HOUR_14            0\n",
       "HOUR_15            0\n",
       "HOUR_16            0\n",
       "HOUR_17            0\n",
       "HOUR_18            0\n",
       "HOUR_19            0\n",
       "HOUR_20            0\n",
       "HOUR_21            0\n",
       "HOUR_22            0\n",
       "HOUR_23            0\n",
       "YEAR               0\n",
       "dtype: int64"
      ]
     },
     "execution_count": 22,
     "metadata": {},
     "output_type": "execute_result"
    }
   ],
   "source": [
    "combined_df.isnull().sum()"
   ]
  },
  {
   "cell_type": "code",
   "execution_count": 23,
   "metadata": {},
   "outputs": [
    {
     "data": {
      "text/plain": [
       "CUSTOMER           0.0\n",
       "AREA               0.0\n",
       "ISPRIVATEPERSON    0.0\n",
       "DATE               0.0\n",
       "HOUR_0             0.0\n",
       "HOUR_1             0.0\n",
       "HOUR_2             0.0\n",
       "HOUR_3             0.0\n",
       "HOUR_4             0.0\n",
       "HOUR_5             0.0\n",
       "HOUR_6             0.0\n",
       "HOUR_7             0.0\n",
       "HOUR_8             0.0\n",
       "HOUR_9             0.0\n",
       "HOUR_10            0.0\n",
       "HOUR_11            0.0\n",
       "HOUR_12            0.0\n",
       "HOUR_13            0.0\n",
       "HOUR_14            0.0\n",
       "HOUR_15            0.0\n",
       "HOUR_16            0.0\n",
       "HOUR_17            0.0\n",
       "HOUR_18            0.0\n",
       "HOUR_19            0.0\n",
       "HOUR_20            0.0\n",
       "HOUR_21            0.0\n",
       "HOUR_22            0.0\n",
       "HOUR_23            0.0\n",
       "YEAR               0.0\n",
       "dtype: float64"
      ]
     },
     "execution_count": 23,
     "metadata": {},
     "output_type": "execute_result"
    }
   ],
   "source": [
    "combined_df.isnull().mean()*100"
   ]
  },
  {
   "cell_type": "code",
   "execution_count": 24,
   "metadata": {},
   "outputs": [
    {
     "name": "stdout",
     "output_type": "stream",
     "text": [
      "Requirement already satisfied: missingno in /Users/oxana/anaconda3/lib/python3.11/site-packages (0.5.2)\n",
      "Requirement already satisfied: numpy in /Users/oxana/anaconda3/lib/python3.11/site-packages (from missingno) (1.24.3)\n",
      "Requirement already satisfied: matplotlib in /Users/oxana/anaconda3/lib/python3.11/site-packages (from missingno) (3.7.2)\n",
      "Requirement already satisfied: scipy in /Users/oxana/anaconda3/lib/python3.11/site-packages (from missingno) (1.11.1)\n",
      "Requirement already satisfied: seaborn in /Users/oxana/anaconda3/lib/python3.11/site-packages (from missingno) (0.12.2)\n",
      "Requirement already satisfied: contourpy>=1.0.1 in /Users/oxana/anaconda3/lib/python3.11/site-packages (from matplotlib->missingno) (1.0.5)\n",
      "Requirement already satisfied: cycler>=0.10 in /Users/oxana/anaconda3/lib/python3.11/site-packages (from matplotlib->missingno) (0.11.0)\n",
      "Requirement already satisfied: fonttools>=4.22.0 in /Users/oxana/anaconda3/lib/python3.11/site-packages (from matplotlib->missingno) (4.25.0)\n",
      "Requirement already satisfied: kiwisolver>=1.0.1 in /Users/oxana/anaconda3/lib/python3.11/site-packages (from matplotlib->missingno) (1.4.4)\n",
      "Requirement already satisfied: packaging>=20.0 in /Users/oxana/anaconda3/lib/python3.11/site-packages (from matplotlib->missingno) (23.2)\n",
      "Requirement already satisfied: pillow>=6.2.0 in /Users/oxana/anaconda3/lib/python3.11/site-packages (from matplotlib->missingno) (10.0.1)\n",
      "Requirement already satisfied: pyparsing<3.1,>=2.3.1 in /Users/oxana/anaconda3/lib/python3.11/site-packages (from matplotlib->missingno) (3.0.9)\n",
      "Requirement already satisfied: python-dateutil>=2.7 in /Users/oxana/anaconda3/lib/python3.11/site-packages (from matplotlib->missingno) (2.8.2)\n",
      "Requirement already satisfied: pandas>=0.25 in /Users/oxana/anaconda3/lib/python3.11/site-packages (from seaborn->missingno) (2.0.3)\n",
      "Requirement already satisfied: pytz>=2020.1 in /Users/oxana/anaconda3/lib/python3.11/site-packages (from pandas>=0.25->seaborn->missingno) (2023.3.post1)\n",
      "Requirement already satisfied: tzdata>=2022.1 in /Users/oxana/anaconda3/lib/python3.11/site-packages (from pandas>=0.25->seaborn->missingno) (2023.3)\n",
      "Requirement already satisfied: six>=1.5 in /Users/oxana/anaconda3/lib/python3.11/site-packages (from python-dateutil>=2.7->matplotlib->missingno) (1.16.0)\n"
     ]
    }
   ],
   "source": [
    "!pip install missingno"
   ]
  },
  {
   "cell_type": "code",
   "execution_count": 25,
   "metadata": {},
   "outputs": [
    {
     "data": {
      "text/plain": [
       "<Axes: >"
      ]
     },
     "execution_count": 25,
     "metadata": {},
     "output_type": "execute_result"
    },
    {
     "data": {
      "image/png": "[encoded data removed]",
      "text/plain": [
       "<Figure size 2500x1000 with 2 Axes>"
      ]
     },
     "metadata": {},
     "output_type": "display_data"
    }
   ],
   "source": [
    "import missingno as msno\n",
    "msno.matrix(combined_df)"
   ]
  },
  {
   "cell_type": "code",
   "execution_count": 26,
   "metadata": {},
   "outputs": [
    {
     "name": "stdout",
     "output_type": "stream",
     "text": [
      "Requirement already satisfied: scikit-learn in /Users/oxana/anaconda3/lib/python3.11/site-packages (1.3.0)\n",
      "Requirement already satisfied: numpy>=1.17.3 in /Users/oxana/anaconda3/lib/python3.11/site-packages (from scikit-learn) (1.24.3)\n",
      "Requirement already satisfied: scipy>=1.5.0 in /Users/oxana/anaconda3/lib/python3.11/site-packages (from scikit-learn) (1.11.1)\n",
      "Requirement already satisfied: joblib>=1.1.1 in /Users/oxana/anaconda3/lib/python3.11/site-packages (from scikit-learn) (1.2.0)\n",
      "Requirement already satisfied: threadpoolctl>=2.0.0 in /Users/oxana/anaconda3/lib/python3.11/site-packages (from scikit-learn) (2.2.0)\n"
     ]
    }
   ],
   "source": [
    "!pip install scikit-learn"
   ]
  },
  {
   "cell_type": "markdown",
   "metadata": {},
   "source": [
    "## Create column 'One_Day_Power'"
   ]
  },
  {
   "cell_type": "code",
   "execution_count": 27,
   "metadata": {},
   "outputs": [],
   "source": [
    "# Define the hourly columns\n",
    "hourly_columns = [f'HOUR_{i}' for i in range(24)]\n",
    "\n",
    "# Calculate the sum of the hourly consumption for each record and create a new column 'One_Day_Power'\n",
    "combined_df['One_Day_Power'] = combined_df[hourly_columns].sum(axis=1)"
   ]
  },
  {
   "cell_type": "code",
   "execution_count": 28,
   "metadata": {},
   "outputs": [
    {
     "name": "stdout",
     "output_type": "stream",
     "text": [
      "   One_Day_Power\n",
      "0          0.261\n",
      "1          0.228\n",
      "2          0.243\n",
      "3          0.243\n",
      "4          0.265\n"
     ]
    }
   ],
   "source": [
    "print(combined_df[['One_Day_Power']].head())"
   ]
  },
  {
   "cell_type": "code",
   "execution_count": 29,
   "metadata": {},
   "outputs": [
    {
     "data": {
      "text/html": [
       "<div>\n",
       "<style scoped>\n",
       "    .dataframe tbody tr th:only-of-type {\n",
       "        vertical-align: middle;\n",
       "    }\n",
       "\n",
       "    .dataframe tbody tr th {\n",
       "        vertical-align: top;\n",
       "    }\n",
       "\n",
       "    .dataframe thead th {\n",
       "        text-align: right;\n",
       "    }\n",
       "</style>\n",
       "<table border=\"1\" class=\"dataframe\">\n",
       "  <thead>\n",
       "    <tr style=\"text-align: right;\">\n",
       "      <th></th>\n",
       "      <th>CUSTOMER</th>\n",
       "      <th>AREA</th>\n",
       "      <th>ISPRIVATEPERSON</th>\n",
       "      <th>DATE</th>\n",
       "      <th>HOUR_0</th>\n",
       "      <th>HOUR_1</th>\n",
       "      <th>HOUR_2</th>\n",
       "      <th>HOUR_3</th>\n",
       "      <th>HOUR_4</th>\n",
       "      <th>HOUR_5</th>\n",
       "      <th>...</th>\n",
       "      <th>HOUR_16</th>\n",
       "      <th>HOUR_17</th>\n",
       "      <th>HOUR_18</th>\n",
       "      <th>HOUR_19</th>\n",
       "      <th>HOUR_20</th>\n",
       "      <th>HOUR_21</th>\n",
       "      <th>HOUR_22</th>\n",
       "      <th>HOUR_23</th>\n",
       "      <th>YEAR</th>\n",
       "      <th>One_Day_Power</th>\n",
       "    </tr>\n",
       "  </thead>\n",
       "  <tbody>\n",
       "    <tr>\n",
       "      <th>0</th>\n",
       "      <td>1060598736</td>\n",
       "      <td>Kvarnholmen</td>\n",
       "      <td>Commercial</td>\n",
       "      <td>2020-01-01</td>\n",
       "      <td>0.011</td>\n",
       "      <td>0.012</td>\n",
       "      <td>0.012</td>\n",
       "      <td>0.012</td>\n",
       "      <td>0.013</td>\n",
       "      <td>0.012</td>\n",
       "      <td>...</td>\n",
       "      <td>0.009</td>\n",
       "      <td>0.010</td>\n",
       "      <td>0.010</td>\n",
       "      <td>0.011</td>\n",
       "      <td>0.011</td>\n",
       "      <td>0.011</td>\n",
       "      <td>0.010</td>\n",
       "      <td>0.010</td>\n",
       "      <td>2020</td>\n",
       "      <td>0.261</td>\n",
       "    </tr>\n",
       "    <tr>\n",
       "      <th>1</th>\n",
       "      <td>1060598736</td>\n",
       "      <td>Kvarnholmen</td>\n",
       "      <td>Commercial</td>\n",
       "      <td>2020-01-02</td>\n",
       "      <td>0.010</td>\n",
       "      <td>0.009</td>\n",
       "      <td>0.009</td>\n",
       "      <td>0.009</td>\n",
       "      <td>0.010</td>\n",
       "      <td>0.009</td>\n",
       "      <td>...</td>\n",
       "      <td>0.009</td>\n",
       "      <td>0.010</td>\n",
       "      <td>0.010</td>\n",
       "      <td>0.009</td>\n",
       "      <td>0.011</td>\n",
       "      <td>0.011</td>\n",
       "      <td>0.011</td>\n",
       "      <td>0.010</td>\n",
       "      <td>2020</td>\n",
       "      <td>0.228</td>\n",
       "    </tr>\n",
       "    <tr>\n",
       "      <th>2</th>\n",
       "      <td>1060598736</td>\n",
       "      <td>Kvarnholmen</td>\n",
       "      <td>Commercial</td>\n",
       "      <td>2020-01-03</td>\n",
       "      <td>0.011</td>\n",
       "      <td>0.011</td>\n",
       "      <td>0.011</td>\n",
       "      <td>0.010</td>\n",
       "      <td>0.010</td>\n",
       "      <td>0.010</td>\n",
       "      <td>...</td>\n",
       "      <td>0.010</td>\n",
       "      <td>0.011</td>\n",
       "      <td>0.011</td>\n",
       "      <td>0.011</td>\n",
       "      <td>0.011</td>\n",
       "      <td>0.010</td>\n",
       "      <td>0.010</td>\n",
       "      <td>0.011</td>\n",
       "      <td>2020</td>\n",
       "      <td>0.243</td>\n",
       "    </tr>\n",
       "    <tr>\n",
       "      <th>3</th>\n",
       "      <td>1060598736</td>\n",
       "      <td>Kvarnholmen</td>\n",
       "      <td>Commercial</td>\n",
       "      <td>2020-01-04</td>\n",
       "      <td>0.010</td>\n",
       "      <td>0.009</td>\n",
       "      <td>0.009</td>\n",
       "      <td>0.009</td>\n",
       "      <td>0.010</td>\n",
       "      <td>0.009</td>\n",
       "      <td>...</td>\n",
       "      <td>0.011</td>\n",
       "      <td>0.012</td>\n",
       "      <td>0.008</td>\n",
       "      <td>0.009</td>\n",
       "      <td>0.011</td>\n",
       "      <td>0.012</td>\n",
       "      <td>0.011</td>\n",
       "      <td>0.011</td>\n",
       "      <td>2020</td>\n",
       "      <td>0.243</td>\n",
       "    </tr>\n",
       "    <tr>\n",
       "      <th>4</th>\n",
       "      <td>1060598736</td>\n",
       "      <td>Kvarnholmen</td>\n",
       "      <td>Commercial</td>\n",
       "      <td>2020-01-05</td>\n",
       "      <td>0.011</td>\n",
       "      <td>0.011</td>\n",
       "      <td>0.010</td>\n",
       "      <td>0.011</td>\n",
       "      <td>0.011</td>\n",
       "      <td>0.011</td>\n",
       "      <td>...</td>\n",
       "      <td>0.011</td>\n",
       "      <td>0.012</td>\n",
       "      <td>0.011</td>\n",
       "      <td>0.012</td>\n",
       "      <td>0.011</td>\n",
       "      <td>0.011</td>\n",
       "      <td>0.011</td>\n",
       "      <td>0.011</td>\n",
       "      <td>2020</td>\n",
       "      <td>0.265</td>\n",
       "    </tr>\n",
       "    <tr>\n",
       "      <th>...</th>\n",
       "      <td>...</td>\n",
       "      <td>...</td>\n",
       "      <td>...</td>\n",
       "      <td>...</td>\n",
       "      <td>...</td>\n",
       "      <td>...</td>\n",
       "      <td>...</td>\n",
       "      <td>...</td>\n",
       "      <td>...</td>\n",
       "      <td>...</td>\n",
       "      <td>...</td>\n",
       "      <td>...</td>\n",
       "      <td>...</td>\n",
       "      <td>...</td>\n",
       "      <td>...</td>\n",
       "      <td>...</td>\n",
       "      <td>...</td>\n",
       "      <td>...</td>\n",
       "      <td>...</td>\n",
       "      <td>...</td>\n",
       "      <td>...</td>\n",
       "    </tr>\n",
       "    <tr>\n",
       "      <th>3614800</th>\n",
       "      <td>2411311923</td>\n",
       "      <td>Malmen</td>\n",
       "      <td>Residential</td>\n",
       "      <td>2023-12-27</td>\n",
       "      <td>0.000</td>\n",
       "      <td>0.000</td>\n",
       "      <td>0.000</td>\n",
       "      <td>0.000</td>\n",
       "      <td>0.000</td>\n",
       "      <td>0.000</td>\n",
       "      <td>...</td>\n",
       "      <td>0.000</td>\n",
       "      <td>0.000</td>\n",
       "      <td>0.000</td>\n",
       "      <td>0.000</td>\n",
       "      <td>0.000</td>\n",
       "      <td>0.000</td>\n",
       "      <td>0.000</td>\n",
       "      <td>0.000</td>\n",
       "      <td>2023</td>\n",
       "      <td>0.000</td>\n",
       "    </tr>\n",
       "    <tr>\n",
       "      <th>3614801</th>\n",
       "      <td>2411311923</td>\n",
       "      <td>Malmen</td>\n",
       "      <td>Residential</td>\n",
       "      <td>2023-12-28</td>\n",
       "      <td>0.000</td>\n",
       "      <td>0.000</td>\n",
       "      <td>0.000</td>\n",
       "      <td>0.000</td>\n",
       "      <td>0.000</td>\n",
       "      <td>0.000</td>\n",
       "      <td>...</td>\n",
       "      <td>0.000</td>\n",
       "      <td>0.000</td>\n",
       "      <td>0.000</td>\n",
       "      <td>0.000</td>\n",
       "      <td>0.000</td>\n",
       "      <td>0.000</td>\n",
       "      <td>0.000</td>\n",
       "      <td>0.000</td>\n",
       "      <td>2023</td>\n",
       "      <td>0.000</td>\n",
       "    </tr>\n",
       "    <tr>\n",
       "      <th>3614802</th>\n",
       "      <td>2411311923</td>\n",
       "      <td>Malmen</td>\n",
       "      <td>Residential</td>\n",
       "      <td>2023-12-29</td>\n",
       "      <td>0.000</td>\n",
       "      <td>0.000</td>\n",
       "      <td>0.000</td>\n",
       "      <td>0.000</td>\n",
       "      <td>0.000</td>\n",
       "      <td>0.000</td>\n",
       "      <td>...</td>\n",
       "      <td>0.000</td>\n",
       "      <td>0.000</td>\n",
       "      <td>0.000</td>\n",
       "      <td>0.000</td>\n",
       "      <td>0.000</td>\n",
       "      <td>0.000</td>\n",
       "      <td>0.000</td>\n",
       "      <td>0.000</td>\n",
       "      <td>2023</td>\n",
       "      <td>0.000</td>\n",
       "    </tr>\n",
       "    <tr>\n",
       "      <th>3614803</th>\n",
       "      <td>2411311923</td>\n",
       "      <td>Malmen</td>\n",
       "      <td>Residential</td>\n",
       "      <td>2023-12-30</td>\n",
       "      <td>0.000</td>\n",
       "      <td>0.000</td>\n",
       "      <td>0.000</td>\n",
       "      <td>0.000</td>\n",
       "      <td>0.000</td>\n",
       "      <td>0.000</td>\n",
       "      <td>...</td>\n",
       "      <td>0.000</td>\n",
       "      <td>0.000</td>\n",
       "      <td>0.000</td>\n",
       "      <td>0.000</td>\n",
       "      <td>0.000</td>\n",
       "      <td>0.000</td>\n",
       "      <td>0.000</td>\n",
       "      <td>0.000</td>\n",
       "      <td>2023</td>\n",
       "      <td>0.000</td>\n",
       "    </tr>\n",
       "    <tr>\n",
       "      <th>3614804</th>\n",
       "      <td>2411311923</td>\n",
       "      <td>Malmen</td>\n",
       "      <td>Residential</td>\n",
       "      <td>2023-12-31</td>\n",
       "      <td>0.000</td>\n",
       "      <td>0.000</td>\n",
       "      <td>0.000</td>\n",
       "      <td>0.000</td>\n",
       "      <td>0.000</td>\n",
       "      <td>0.000</td>\n",
       "      <td>...</td>\n",
       "      <td>0.000</td>\n",
       "      <td>0.000</td>\n",
       "      <td>0.000</td>\n",
       "      <td>0.000</td>\n",
       "      <td>0.000</td>\n",
       "      <td>0.000</td>\n",
       "      <td>0.000</td>\n",
       "      <td>0.000</td>\n",
       "      <td>2023</td>\n",
       "      <td>0.000</td>\n",
       "    </tr>\n",
       "  </tbody>\n",
       "</table>\n",
       "<p>3612918 rows × 30 columns</p>\n",
       "</div>"
      ],
      "text/plain": [
       "           CUSTOMER         AREA ISPRIVATEPERSON       DATE  HOUR_0  HOUR_1  \\\n",
       "0        1060598736  Kvarnholmen      Commercial 2020-01-01   0.011   0.012   \n",
       "1        1060598736  Kvarnholmen      Commercial 2020-01-02   0.010   0.009   \n",
       "2        1060598736  Kvarnholmen      Commercial 2020-01-03   0.011   0.011   \n",
       "3        1060598736  Kvarnholmen      Commercial 2020-01-04   0.010   0.009   \n",
       "4        1060598736  Kvarnholmen      Commercial 2020-01-05   0.011   0.011   \n",
       "...             ...          ...             ...        ...     ...     ...   \n",
       "3614800  2411311923       Malmen     Residential 2023-12-27   0.000   0.000   \n",
       "3614801  2411311923       Malmen     Residential 2023-12-28   0.000   0.000   \n",
       "3614802  2411311923       Malmen     Residential 2023-12-29   0.000   0.000   \n",
       "3614803  2411311923       Malmen     Residential 2023-12-30   0.000   0.000   \n",
       "3614804  2411311923       Malmen     Residential 2023-12-31   0.000   0.000   \n",
       "\n",
       "         HOUR_2  HOUR_3  HOUR_4  HOUR_5  ...  HOUR_16  HOUR_17  HOUR_18  \\\n",
       "0         0.012   0.012   0.013   0.012  ...    0.009    0.010    0.010   \n",
       "1         0.009   0.009   0.010   0.009  ...    0.009    0.010    0.010   \n",
       "2         0.011   0.010   0.010   0.010  ...    0.010    0.011    0.011   \n",
       "3         0.009   0.009   0.010   0.009  ...    0.011    0.012    0.008   \n",
       "4         0.010   0.011   0.011   0.011  ...    0.011    0.012    0.011   \n",
       "...         ...     ...     ...     ...  ...      ...      ...      ...   \n",
       "3614800   0.000   0.000   0.000   0.000  ...    0.000    0.000    0.000   \n",
       "3614801   0.000   0.000   0.000   0.000  ...    0.000    0.000    0.000   \n",
       "3614802   0.000   0.000   0.000   0.000  ...    0.000    0.000    0.000   \n",
       "3614803   0.000   0.000   0.000   0.000  ...    0.000    0.000    0.000   \n",
       "3614804   0.000   0.000   0.000   0.000  ...    0.000    0.000    0.000   \n",
       "\n",
       "         HOUR_19  HOUR_20  HOUR_21  HOUR_22  HOUR_23  YEAR  One_Day_Power  \n",
       "0          0.011    0.011    0.011    0.010    0.010  2020          0.261  \n",
       "1          0.009    0.011    0.011    0.011    0.010  2020          0.228  \n",
       "2          0.011    0.011    0.010    0.010    0.011  2020          0.243  \n",
       "3          0.009    0.011    0.012    0.011    0.011  2020          0.243  \n",
       "4          0.012    0.011    0.011    0.011    0.011  2020          0.265  \n",
       "...          ...      ...      ...      ...      ...   ...            ...  \n",
       "3614800    0.000    0.000    0.000    0.000    0.000  2023          0.000  \n",
       "3614801    0.000    0.000    0.000    0.000    0.000  2023          0.000  \n",
       "3614802    0.000    0.000    0.000    0.000    0.000  2023          0.000  \n",
       "3614803    0.000    0.000    0.000    0.000    0.000  2023          0.000  \n",
       "3614804    0.000    0.000    0.000    0.000    0.000  2023          0.000  \n",
       "\n",
       "[3612918 rows x 30 columns]"
      ]
     },
     "execution_count": 29,
     "metadata": {},
     "output_type": "execute_result"
    }
   ],
   "source": [
    "combined_df"
   ]
  },
  {
   "cell_type": "code",
   "execution_count": 30,
   "metadata": {},
   "outputs": [
    {
     "name": "stdout",
     "output_type": "stream",
     "text": [
      "Number of rows with One_Day_Power equal to zero: 1039980\n"
     ]
    }
   ],
   "source": [
    "# Count the number of rows with One_Day_Power equal to zero\n",
    "zero_power_count = (combined_df['One_Day_Power'] == 0).sum()\n",
    "\n",
    "print(f\"Number of rows with One_Day_Power equal to zero: {zero_power_count}\")"
   ]
  },
  {
   "cell_type": "markdown",
   "metadata": {},
   "source": [
    "## Investigate the rows with zero in their hourly power consumption and identify the time of the year, area, and customers they belong to, you can filter your DataFrame for these rows and then examine the 'DATE', 'AREA', and 'CUSTOMER' columns"
   ]
  },
  {
   "cell_type": "code",
   "execution_count": 31,
   "metadata": {},
   "outputs": [
    {
     "data": {
      "text/plain": [
       "array(['Kvarnholmen', 'Malmen', 'Berga', 'Stensö'], dtype=object)"
      ]
     },
     "execution_count": 31,
     "metadata": {},
     "output_type": "execute_result"
    }
   ],
   "source": [
    "combined_df['AREA'].unique()"
   ]
  },
  {
   "cell_type": "code",
   "execution_count": 32,
   "metadata": {},
   "outputs": [
    {
     "name": "stderr",
     "output_type": "stream",
     "text": [
      "/var/folders/gv/7bjgqyhj6td4g_cktv1tvblw0000gq/T/ipykernel_10088/2335747545.py:5: SettingWithCopyWarning: \n",
      "A value is trying to be set on a copy of a slice from a DataFrame.\n",
      "Try using .loc[row_indexer,col_indexer] = value instead\n",
      "\n",
      "See the caveats in the documentation: https://pandas.pydata.org/pandas-docs/stable/user_guide/indexing.html#returning-a-view-versus-a-copy\n",
      "  zero_power_df['DATE'] = pd.to_datetime(zero_power_df['DATE'])\n",
      "/var/folders/gv/7bjgqyhj6td4g_cktv1tvblw0000gq/T/ipykernel_10088/2335747545.py:6: SettingWithCopyWarning: \n",
      "A value is trying to be set on a copy of a slice from a DataFrame.\n",
      "Try using .loc[row_indexer,col_indexer] = value instead\n",
      "\n",
      "See the caveats in the documentation: https://pandas.pydata.org/pandas-docs/stable/user_guide/indexing.html#returning-a-view-versus-a-copy\n",
      "  zero_power_df['MONTH'] = zero_power_df['DATE'].dt.month\n"
     ]
    },
    {
     "data": {
      "image/png": "[encoded data removed]",
      "text/plain": [
       "<Figure size 1000x600 with 1 Axes>"
      ]
     },
     "metadata": {},
     "output_type": "display_data"
    },
    {
     "name": "stdout",
     "output_type": "stream",
     "text": [
      "Top Areas with Zero Consumption:\n",
      "AREA\n",
      "Malmen         428963\n",
      "Kvarnholmen    334768\n",
      "Berga          207997\n",
      "Stensö          68252\n",
      "Name: count, dtype: int64\n",
      "\n",
      "Top Customers with Zero Consumption:\n",
      "CUSTOMER\n",
      "1060608225    1461\n",
      "1060696700    1461\n",
      "1060621311    1461\n",
      "1060603914    1459\n",
      "1060753649    1459\n",
      "Name: count, dtype: int64\n"
     ]
    }
   ],
   "source": [
    "# Filter rows where 'One_Day_Power' is zero\n",
    "zero_power_df = combined_df[combined_df['One_Day_Power'] == 0]\n",
    "\n",
    "# Check the distribution of these zero consumption records over different months (which can indicate seasons)\n",
    "zero_power_df['DATE'] = pd.to_datetime(zero_power_df['DATE'])\n",
    "zero_power_df['MONTH'] = zero_power_df['DATE'].dt.month\n",
    "\n",
    "# Get the count of zero consumption records for each month\n",
    "zero_power_by_month = zero_power_df['MONTH'].value_counts().sort_index()\n",
    "\n",
    "# Get the count of zero consumption records for each area\n",
    "zero_power_by_area = zero_power_df['AREA'].value_counts()\n",
    "\n",
    "# Get the count of zero consumption records for each customer\n",
    "zero_power_by_customer = zero_power_df['CUSTOMER'].value_counts()\n",
    "\n",
    "# Now let's visualize the distribution over months using a bar plot with Seaborn\n",
    "plt.figure(figsize=(10, 6))\n",
    "sns.barplot(x=zero_power_by_month.index, y=zero_power_by_month.values, palette=\"viridis\")\n",
    "plt.title('Zero Power Consumption Records by Month')\n",
    "plt.xlabel('Month')\n",
    "plt.ylabel('Count of Zero Consumption Records')\n",
    "plt.xticks(ticks=range(12), labels=['Jan', 'Feb', 'Mar', 'Apr', 'May', 'Jun', 'Jul', 'Aug', 'Sep', 'Oct', 'Nov', 'Dec'])\n",
    "plt.show()\n",
    "\n",
    "# If needed, display the top areas and customers with zero consumption\n",
    "print(\"Top Areas with Zero Consumption:\")\n",
    "print(zero_power_by_area.head())  # Adjust the number of rows to display as needed\n",
    "\n",
    "print(\"\\nTop Customers with Zero Consumption:\")\n",
    "print(zero_power_by_customer.head())  # Adjust the number of rows to display as needed"
   ]
  },
  {
   "cell_type": "code",
   "execution_count": 33,
   "metadata": {},
   "outputs": [
    {
     "data": {
      "image/png": "[encoded data removed]",
      "text/plain": [
       "<Figure size 1000x600 with 1 Axes>"
      ]
     },
     "metadata": {},
     "output_type": "display_data"
    },
    {
     "name": "stdout",
     "output_type": "stream",
     "text": [
      "Zero Power Consumption Records by Year:\n",
      "YEAR\n",
      "2020     28962\n",
      "2021     40227\n",
      "2022    170950\n",
      "2023    799841\n",
      "Name: count, dtype: int64\n"
     ]
    }
   ],
   "source": [
    "# Filter rows where 'One_Day_Power' is zero\n",
    "zero_power_df = combined_df[combined_df['One_Day_Power'] == 0]\n",
    "\n",
    "# Get the count of zero consumption records for each year\n",
    "zero_power_by_year = zero_power_df['YEAR'].value_counts().sort_index()\n",
    "\n",
    "# Now let's visualize the distribution over years using a bar plot with Seaborn\n",
    "plt.figure(figsize=(10, 6))\n",
    "sns.barplot(x=zero_power_by_year.index.astype(str), y=zero_power_by_year.values, palette=\"viridis\")\n",
    "plt.title('Zero Power Consumption Records by Year')\n",
    "plt.xlabel('Year')\n",
    "plt.ylabel('Count of Zero Consumption Records')\n",
    "plt.xticks(rotation=45)  # Rotate x-axis labels if necessary\n",
    "plt.show()\n",
    "\n",
    "# Display the count of zero consumption records by year\n",
    "print(\"Zero Power Consumption Records by Year:\")\n",
    "print(zero_power_by_year)\n"
   ]
  },
  {
   "cell_type": "code",
   "execution_count": 34,
   "metadata": {},
   "outputs": [
    {
     "name": "stdout",
     "output_type": "stream",
     "text": [
      "Number of unique customers with zero 'One_Day_Power': 5339\n"
     ]
    }
   ],
   "source": [
    "# Count the number of unique customers with zero 'One_Day_Power'\n",
    "unique_zero_power_customers = zero_power_df['CUSTOMER'].nunique()\n",
    "\n",
    "print(f\"Number of unique customers with zero 'One_Day_Power': {unique_zero_power_customers}\")"
   ]
  },
  {
   "cell_type": "code",
   "execution_count": 35,
   "metadata": {},
   "outputs": [
    {
     "name": "stdout",
     "output_type": "stream",
     "text": [
      "AREA\n",
      "Berga          1397\n",
      "Kvarnholmen    1502\n",
      "Malmen         2033\n",
      "Stensö          407\n",
      "Name: CUSTOMER, dtype: int64\n"
     ]
    }
   ],
   "source": [
    "\n",
    "# Filter rows where 'One_Day_Power' is zero\n",
    "zero_power_customers = combined_df[combined_df['One_Day_Power'] == 0]\n",
    "\n",
    "# Group by 'AREA' and count the unique 'CUSTOMER' entries within each group\n",
    "unique_customers_per_area = zero_power_customers.groupby('AREA')['CUSTOMER'].nunique()\n",
    "\n",
    "# Display the unique number of customers per area\n",
    "print(unique_customers_per_area)"
   ]
  },
  {
   "cell_type": "code",
   "execution_count": 36,
   "metadata": {},
   "outputs": [
    {
     "name": "stdout",
     "output_type": "stream",
     "text": [
      "          AREA  One_Day_Power\n",
      "1  Kvarnholmen   87800.534625\n",
      "2       Malmen   74599.123320\n",
      "3       Stensö   43664.611725\n",
      "0        Berga   32095.614718\n"
     ]
    },
    {
     "data": {
      "image/png": "[encoded data removed]",
      "text/plain": [
       "<Figure size 1500x600 with 1 Axes>"
      ]
     },
     "metadata": {},
     "output_type": "display_data"
    }
   ],
   "source": [
    "# Sum the 'One_Day_Power' for each area\n",
    "power_consumption_per_area = combined_df.groupby('AREA')['One_Day_Power'].sum().reset_index()\n",
    "\n",
    "# Sort the results to see the areas with the highest consumption at the top\n",
    "power_consumption_per_area = power_consumption_per_area.sort_values(by='One_Day_Power', ascending=False)\n",
    "\n",
    "# Display the power consumption per area\n",
    "print(power_consumption_per_area)\n",
    "\n",
    "# Now let's visualize the power consumption per area using Seaborn\n",
    "plt.figure(figsize=(15, 6))\n",
    "sns.barplot(data=power_consumption_per_area, x='AREA', y='One_Day_Power', palette=\"viridis\")\n",
    "plt.title('Total Power Consumption per Area')\n",
    "plt.xlabel('Area')\n",
    "plt.ylabel('Total Power Consumption')\n",
    "plt.xticks(rotation=45)  # Rotate the x-axis labels for better readability\n",
    "plt.show()"
   ]
  },
  {
   "cell_type": "markdown",
   "metadata": {},
   "source": [
    "## Number of Customers per Area"
   ]
  },
  {
   "cell_type": "code",
   "execution_count": 37,
   "metadata": {
    "tags": []
   },
   "outputs": [
    {
     "data": {
      "image/png": "[encoded data removed]",
      "text/plain": [
       "<Figure size 1500x600 with 1 Axes>"
      ]
     },
     "metadata": {},
     "output_type": "display_data"
    }
   ],
   "source": [
    "import seaborn as sns\n",
    "import matplotlib.pyplot as plt\n",
    "\n",
    "# Group by 'AREA' and count the unique number of 'CUSTOMER'\n",
    "customers_per_area = combined_df.groupby('AREA')['CUSTOMER'].nunique()\n",
    "\n",
    "# Calculate the total number of unique customers\n",
    "total_customers = customers_per_area.sum()\n",
    "\n",
    "# Convert to DataFrame and reset index for better readability\n",
    "customers_per_area_df = customers_per_area.reset_index()\n",
    "\n",
    "# Rename columns for clarity\n",
    "customers_per_area_df.columns = ['AREA', 'Number of Customers']\n",
    "\n",
    "# Sort the areas for better visualization\n",
    "customers_per_area_df = customers_per_area_df.sort_values('Number of Customers', ascending=False)\n",
    "\n",
    "# Set the aesthetic style of the plots\n",
    "sns.set_style('whitegrid')\n",
    "\n",
    "# Create a bar chart with Seaborn with narrower bars\n",
    "plt.figure(figsize=(15, 6))\n",
    "barplot = sns.barplot(x='AREA', y='Number of Customers', data=customers_per_area_df, \n",
    "                      palette='Spectral', width=0.5)  # Set width to desired value\n",
    "\n",
    "# Rotate the x-axis labels for better readability and adjust fontsize and fontweight\n",
    "plt.xticks(rotation=45, fontsize=10, fontweight='bold')\n",
    "\n",
    "# Annotate the number of customers on top of each bar\n",
    "for bar in barplot.patches:\n",
    "    yval = bar.get_height()\n",
    "    plt.text(bar.get_x() + bar.get_width()/2, yval + 0.05, int(yval), \n",
    "             ha='center', va='bottom', fontsize=10, color='black', fontweight='bold')\n",
    "\n",
    "plt.xlabel('Area', fontsize=12, fontweight='bold')\n",
    "plt.ylabel('Number of Customers', fontsize=12, fontweight='bold')\n",
    "plt.title('Number of Customers in Each Area', fontsize=14, fontweight='bold')\n",
    "\n",
    "# Add the total number of customers in the top right corner of the plot\n",
    "plt.annotate(f'Total Customers: {total_customers}', xy=(0.95, 0.95), xycoords='axes fraction',\n",
    "             fontsize=11, color='black', fontweight='bold', ha='right', va='top')\n",
    "\n",
    "# Adjust the layout to fit the x-axis labels\n",
    "plt.tight_layout()\n",
    "\n",
    "# Show the plot\n",
    "plt.show()\n"
   ]
  },
  {
   "cell_type": "code",
   "execution_count": 38,
   "metadata": {
    "tags": []
   },
   "outputs": [
    {
     "name": "stderr",
     "output_type": "stream",
     "text": [
      "/var/folders/gv/7bjgqyhj6td4g_cktv1tvblw0000gq/T/ipykernel_10088/880282206.py:16: SettingWithCopyWarning: \n",
      "A value is trying to be set on a copy of a slice from a DataFrame.\n",
      "Try using .loc[row_indexer,col_indexer] = value instead\n",
      "\n",
      "See the caveats in the documentation: https://pandas.pydata.org/pandas-docs/stable/user_guide/indexing.html#returning-a-view-versus-a-copy\n",
      "  customer_data['MONTH'] = customer_data['DATE'].dt.month\n"
     ]
    },
    {
     "data": {
      "image/png": "[encoded data removed]",
      "text/plain": [
       "<Figure size 1200x600 with 1 Axes>"
      ]
     },
     "metadata": {},
     "output_type": "display_data"
    }
   ],
   "source": [
    "import seaborn as sns\n",
    "import matplotlib.pyplot as plt\n",
    "import numpy as np\n",
    "import random\n",
    "\n",
    "# Ensure 'DATE' is in datetime format\n",
    "# df_combined['DATE'] = pd.to_datetime(df_combined['DATE'])\n",
    "\n",
    "# Randomly select one customer\n",
    "random_customer = random.choice(combined_df['CUSTOMER'].unique())\n",
    "\n",
    "# Filter the DataFrame for the randomly selected customer\n",
    "customer_data = combined_df[combined_df['CUSTOMER'] == random_customer]\n",
    "\n",
    "# Extract month from 'DATE' if not already done\n",
    "customer_data['MONTH'] = customer_data['DATE'].dt.month\n",
    "\n",
    "# Group by month and sum up 'One_Day_Power'\n",
    "power_consumption_per_month = customer_data.groupby('MONTH')['One_Day_Power'].sum().reset_index()\n",
    "\n",
    "# Sort by month for chronological order\n",
    "power_consumption_per_month = power_consumption_per_month.sort_values('MONTH')\n",
    "\n",
    "# Visualize the power consumption per month using Seaborn\n",
    "plt.figure(figsize=(12, 6))\n",
    "sns.barplot(data=power_consumption_per_month, x='MONTH', y='One_Day_Power', palette=\"viridis\")\n",
    "plt.title(f'Power Consumption per Month for Customer {random_customer}')\n",
    "plt.xlabel('Month')\n",
    "plt.ylabel('Total Power Consumption')\n",
    "plt.xticks(ticks=range(12), labels=['Jan', 'Feb', 'Mar', 'Apr', 'May', 'Jun', 'Jul', 'Aug', 'Sep', 'Oct', 'Nov', 'Dec'])\n",
    "plt.show()\n"
   ]
  }
 ],
 "metadata": {
  "kernelspec": {
   "display_name": "Python 3 (ipykernel)",
   "language": "python",
   "name": "python3"
  },
  "language_info": {
   "codemirror_mode": {
    "name": "ipython",
    "version": 3
   },
   "file_extension": ".py",
   "mimetype": "text/x-python",
   "name": "python",
   "nbconvert_exporter": "python",
   "pygments_lexer": "ipython3",
   "version": "3.11.5"
  }
 },
 "nbformat": 4,
 "nbformat_minor": 4
}
